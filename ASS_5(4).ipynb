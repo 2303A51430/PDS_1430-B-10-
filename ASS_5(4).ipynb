{
  "nbformat": 4,
  "nbformat_minor": 0,
  "metadata": {
    "colab": {
      "provenance": [],
      "authorship_tag": "ABX9TyNe8R4e1ZjhcN3+MQUzLWbS",
      "include_colab_link": true
    },
    "kernelspec": {
      "name": "python3",
      "display_name": "Python 3"
    },
    "language_info": {
      "name": "python"
    }
  },
  "cells": [
    {
      "cell_type": "markdown",
      "metadata": {
        "id": "view-in-github",
        "colab_type": "text"
      },
      "source": [
        "<a href=\"https://colab.research.google.com/github/2303A51430/PDS_1430-B-10-/blob/main/ASS_5(4).ipynb\" target=\"_parent\"><img src=\"https://colab.research.google.com/assets/colab-badge.svg\" alt=\"Open In Colab\"/></a>"
      ]
    },
    {
      "cell_type": "code",
      "execution_count": 1,
      "metadata": {
        "colab": {
          "base_uri": "https://localhost:8080/"
        },
        "id": "KLsjtg0u5eHb",
        "outputId": "99636963-d22a-456f-f28e-f76f7dffcf1d"
      },
      "outputs": [
        {
          "output_type": "stream",
          "name": "stdout",
          "text": [
            "Teachers Dataset:\n",
            "   teacher_id teacher_name        department\n",
            "0           1        Alice              Math\n",
            "1           2          Bob           Science\n",
            "2           3      Charlie              Math\n",
            "3           4        David  Computer Science\n",
            "4           5          Eva           Science \n",
            "\n"
          ]
        }
      ],
      "source": [
        "import pandas as pd\n",
        "\n",
        "teachers = pd.DataFrame({\n",
        "    \"teacher_id\": [1, 2, 3, 4, 5],\n",
        "    \"teacher_name\": [\"Alice\", \"Bob\", \"Charlie\", \"David\", \"Eva\"],\n",
        "    \"department\": [\"Math\", \"Science\", \"Math\", \"Computer Science\", \"Science\"]\n",
        "})\n",
        "\n",
        "courses = pd.DataFrame({\n",
        "    \"course_id\": [101, 102, 103, 104, 105, 106, 107],\n",
        "    \"course_name\": [\"Algebra\", \"Biology\", \"Geometry\", \"Physics\", \"Programming\", \"Chemistry\", \"Data Structures\"],\n",
        "    \"teacher_id\": [1, 2, 1, 2, 4, 5, 4],\n",
        "    \"workload_hours\": [40, 50, 35, 45, 60, 55, 65]\n",
        "})\n",
        "\n",
        "inner_merge = pd.merge(courses, teachers, on=\"teacher_id\", how=\"inner\")\n",
        "left_merge = pd.merge(teachers, courses, on=\"teacher_id\", how=\"left\")\n",
        "\n",
        "courses_per_teacher = courses.groupby(\"teacher_id\").size()\n",
        "avg_courses = courses_per_teacher.mean()\n",
        "\n",
        "dept_workload = inner_merge.groupby(\"department\")[\"workload_hours\"].sum().reset_index()\n",
        "teacher_workload = inner_merge.groupby(\"teacher_name\")[\"workload_hours\"].sum().reset_index()\n",
        "\n",
        "print(\"Teachers Dataset:\")\n",
        "print(teachers, \"\\n\")"
      ]
    },
    {
      "cell_type": "code",
      "source": [
        "print(\"Courses Dataset:\")\n",
        "print(courses, \"\\n\")"
      ],
      "metadata": {
        "colab": {
          "base_uri": "https://localhost:8080/"
        },
        "id": "QPcYyaSv5ry7",
        "outputId": "44b2522a-4129-4b8a-beb6-b59d1e61deb1"
      },
      "execution_count": 2,
      "outputs": [
        {
          "output_type": "stream",
          "name": "stdout",
          "text": [
            "Courses Dataset:\n",
            "   course_id      course_name  teacher_id  workload_hours\n",
            "0        101          Algebra           1              40\n",
            "1        102          Biology           2              50\n",
            "2        103         Geometry           1              35\n",
            "3        104          Physics           2              45\n",
            "4        105      Programming           4              60\n",
            "5        106        Chemistry           5              55\n",
            "6        107  Data Structures           4              65 \n",
            "\n"
          ]
        }
      ]
    },
    {
      "cell_type": "code",
      "source": [
        "\n",
        "print(\"Inner Join (Courses assigned to Teachers):\")\n",
        "print(inner_merge, \"\\n\")"
      ],
      "metadata": {
        "colab": {
          "base_uri": "https://localhost:8080/"
        },
        "id": "O5guYZ0a5vFu",
        "outputId": "d00774af-8334-440e-89bf-4a697710bfc1"
      },
      "execution_count": 3,
      "outputs": [
        {
          "output_type": "stream",
          "name": "stdout",
          "text": [
            "Inner Join (Courses assigned to Teachers):\n",
            "   course_id      course_name  teacher_id  workload_hours teacher_name  \\\n",
            "0        101          Algebra           1              40        Alice   \n",
            "1        102          Biology           2              50          Bob   \n",
            "2        103         Geometry           1              35        Alice   \n",
            "3        104          Physics           2              45          Bob   \n",
            "4        105      Programming           4              60        David   \n",
            "5        106        Chemistry           5              55          Eva   \n",
            "6        107  Data Structures           4              65        David   \n",
            "\n",
            "         department  \n",
            "0              Math  \n",
            "1           Science  \n",
            "2              Math  \n",
            "3           Science  \n",
            "4  Computer Science  \n",
            "5           Science  \n",
            "6  Computer Science   \n",
            "\n"
          ]
        }
      ]
    },
    {
      "cell_type": "code",
      "source": [
        "print(\"Left Join (All teachers with possible courses):\")\n",
        "print(left_merge, \"\\n\")"
      ],
      "metadata": {
        "colab": {
          "base_uri": "https://localhost:8080/"
        },
        "id": "1TiXPeYT5yXe",
        "outputId": "1a27f8af-64db-4d5b-d902-c8399e376fc3"
      },
      "execution_count": 4,
      "outputs": [
        {
          "output_type": "stream",
          "name": "stdout",
          "text": [
            "Left Join (All teachers with possible courses):\n",
            "   teacher_id teacher_name        department  course_id      course_name  \\\n",
            "0           1        Alice              Math      101.0          Algebra   \n",
            "1           1        Alice              Math      103.0         Geometry   \n",
            "2           2          Bob           Science      102.0          Biology   \n",
            "3           2          Bob           Science      104.0          Physics   \n",
            "4           3      Charlie              Math        NaN              NaN   \n",
            "5           4        David  Computer Science      105.0      Programming   \n",
            "6           4        David  Computer Science      107.0  Data Structures   \n",
            "7           5          Eva           Science      106.0        Chemistry   \n",
            "\n",
            "   workload_hours  \n",
            "0            40.0  \n",
            "1            35.0  \n",
            "2            50.0  \n",
            "3            45.0  \n",
            "4             NaN  \n",
            "5            60.0  \n",
            "6            65.0  \n",
            "7            55.0   \n",
            "\n"
          ]
        }
      ]
    },
    {
      "cell_type": "code",
      "source": [
        "print(f\"Average courses per teacher: {avg_courses:.2f}\\n\")"
      ],
      "metadata": {
        "colab": {
          "base_uri": "https://localhost:8080/"
        },
        "id": "b7AK3hq151BT",
        "outputId": "653d45ee-2d9c-426e-fd2e-7d7a8b2c34e6"
      },
      "execution_count": 5,
      "outputs": [
        {
          "output_type": "stream",
          "name": "stdout",
          "text": [
            "Average courses per teacher: 1.75\n",
            "\n"
          ]
        }
      ]
    },
    {
      "cell_type": "code",
      "source": [
        "print(\"Department-wise Total Workload (hours):\")\n",
        "print(dept_workload, \"\\n\")"
      ],
      "metadata": {
        "colab": {
          "base_uri": "https://localhost:8080/"
        },
        "id": "eEnQQew753tJ",
        "outputId": "6d228547-5ce7-4960-e963-86b5cff82978"
      },
      "execution_count": 6,
      "outputs": [
        {
          "output_type": "stream",
          "name": "stdout",
          "text": [
            "Department-wise Total Workload (hours):\n",
            "         department  workload_hours\n",
            "0  Computer Science             125\n",
            "1              Math              75\n",
            "2           Science             150 \n",
            "\n"
          ]
        }
      ]
    },
    {
      "cell_type": "code",
      "source": [
        "print(\"Teacher-wise Workload (hours):\")\n",
        "print(teacher_workload, \"\\n\")"
      ],
      "metadata": {
        "colab": {
          "base_uri": "https://localhost:8080/"
        },
        "id": "El602phF564I",
        "outputId": "9317052e-c677-44da-a440-df06b03d746b"
      },
      "execution_count": 7,
      "outputs": [
        {
          "output_type": "stream",
          "name": "stdout",
          "text": [
            "Teacher-wise Workload (hours):\n",
            "  teacher_name  workload_hours\n",
            "0        Alice              75\n",
            "1          Bob              95\n",
            "2        David             125\n",
            "3          Eva              55 \n",
            "\n"
          ]
        }
      ]
    }
  ]
}