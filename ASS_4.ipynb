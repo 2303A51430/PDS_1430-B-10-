{
  "nbformat": 4,
  "nbformat_minor": 0,
  "metadata": {
    "colab": {
      "provenance": [],
      "authorship_tag": "ABX9TyMAll1cQPXjzpeESIco/zfH",
      "include_colab_link": true
    },
    "kernelspec": {
      "name": "python3",
      "display_name": "Python 3"
    },
    "language_info": {
      "name": "python"
    }
  },
  "cells": [
    {
      "cell_type": "markdown",
      "metadata": {
        "id": "view-in-github",
        "colab_type": "text"
      },
      "source": [
        "<a href=\"https://colab.research.google.com/github/2303A51430/PDS_1430-B-10-/blob/main/ASS_4.ipynb\" target=\"_parent\"><img src=\"https://colab.research.google.com/assets/colab-badge.svg\" alt=\"Open In Colab\"/></a>"
      ]
    },
    {
      "cell_type": "code",
      "execution_count": 3,
      "metadata": {
        "colab": {
          "base_uri": "https://localhost:8080/"
        },
        "id": "nQw3q8Uu1HKW",
        "outputId": "7b8edbec-d2f9-4774-df76-54daf9e1ecae"
      },
      "outputs": [
        {
          "output_type": "stream",
          "name": "stdout",
          "text": [
            "Inner Join Result:\n",
            "    sale_id  product_id  quantity product_name     category  price\n",
            "0        1         101         2       Laptop  Electronics  60000\n",
            "1        2         102         1        Phone  Electronics  25000\n",
            "2        3         101         3       Laptop  Electronics  60000\n",
            "3        4         104         5   Headphones  Accessories   4000\n",
            "4        5         105         2   Smartwatch  Accessories  12000\n",
            "5        6         105         1   Smartwatch  Accessories  12000 \n",
            "\n",
            "Outer Join Result:\n",
            "    sale_id  product_id  quantity product_name     category    price\n",
            "0      1.0         101       2.0       Laptop  Electronics  60000.0\n",
            "1      3.0         101       3.0       Laptop  Electronics  60000.0\n",
            "2      2.0         102       1.0        Phone  Electronics  25000.0\n",
            "3      NaN         103       NaN       Tablet  Electronics  18000.0\n",
            "4      4.0         104       5.0   Headphones  Accessories   4000.0\n",
            "5      5.0         105       2.0   Smartwatch  Accessories  12000.0\n",
            "6      6.0         105       1.0   Smartwatch  Accessories  12000.0\n",
            "7      7.0         106       4.0          NaN          NaN      NaN \n",
            "\n"
          ]
        }
      ],
      "source": [
        "import pandas as pd\n",
        "\n",
        "products = pd.DataFrame({\n",
        "    \"product_id\": [101, 102, 103, 104, 105],\n",
        "    \"product_name\": [\"Laptop\", \"Phone\", \"Tablet\", \"Headphones\", \"Smartwatch\"],\n",
        "    \"category\": [\"Electronics\", \"Electronics\", \"Electronics\", \"Accessories\", \"Accessories\"],\n",
        "    \"price\": [60000, 25000, 18000, 4000, 12000]\n",
        "})\n",
        "\n",
        "sales = pd.DataFrame({\n",
        "    \"sale_id\": [1, 2, 3, 4, 5, 6, 7],\n",
        "    \"product_id\": [101, 102, 101, 104, 105, 105, 106],\n",
        "    \"quantity\": [2, 1, 3, 5, 2, 1, 4]\n",
        "})\n",
        "inner_merged = pd.merge(sales, products, on=\"product_id\", how=\"inner\")\n",
        "print(\"Inner Join Result:\\n\", inner_merged, \"\\n\")\n",
        "\n",
        "outer_merged = pd.merge(sales, products, on=\"product_id\", how=\"outer\")\n",
        "print(\"Outer Join Result:\\n\", outer_merged, \"\\n\")"
      ]
    },
    {
      "cell_type": "code",
      "source": [
        "inner_merged[\"revenue\"] = inner_merged[\"quantity\"] * inner_merged[\"price\"]\n",
        "\n",
        "total_revenue = inner_merged[\"revenue\"].sum()\n",
        "average_price = products[\"price\"].mean()\n",
        "product_sales = inner_merged.groupby(\"product_name\")[\"quantity\"].sum().reset_index()\n",
        "category_revenue = inner_merged.groupby(\"category\")[\"revenue\"].sum().reset_index()\n",
        "best_category = category_revenue.loc[category_revenue[\"revenue\"].idxmax()]\n",
        "\n",
        "print(\"Total Revenue:\", total_revenue)"
      ],
      "metadata": {
        "colab": {
          "base_uri": "https://localhost:8080/"
        },
        "id": "hz51weGd1cfI",
        "outputId": "efe1b852-bc4e-4404-c7b3-1e1cc80eda64"
      },
      "execution_count": 4,
      "outputs": [
        {
          "output_type": "stream",
          "name": "stdout",
          "text": [
            "Total Revenue: 381000\n"
          ]
        }
      ]
    },
    {
      "cell_type": "code",
      "source": [
        "print(\"Average Product Price:\", average_price, \"\\n\")"
      ],
      "metadata": {
        "colab": {
          "base_uri": "https://localhost:8080/"
        },
        "id": "_m5Op3RP1jhv",
        "outputId": "07db5606-5ec4-4152-8e10-ae7bbc385b12"
      },
      "execution_count": 6,
      "outputs": [
        {
          "output_type": "stream",
          "name": "stdout",
          "text": [
            "Average Product Price: 23800.0 \n",
            "\n"
          ]
        }
      ]
    },
    {
      "cell_type": "code",
      "source": [
        "print(\"Product-wise Sales:\\n\", product_sales, \"\\n\")"
      ],
      "metadata": {
        "colab": {
          "base_uri": "https://localhost:8080/"
        },
        "id": "gEGqehgn1oN7",
        "outputId": "85df160e-709f-42f4-a35b-606ea21994e3"
      },
      "execution_count": 7,
      "outputs": [
        {
          "output_type": "stream",
          "name": "stdout",
          "text": [
            "Product-wise Sales:\n",
            "   product_name  quantity\n",
            "0   Headphones         5\n",
            "1       Laptop         5\n",
            "2        Phone         1\n",
            "3   Smartwatch         3 \n",
            "\n"
          ]
        }
      ]
    },
    {
      "cell_type": "code",
      "source": [
        "print(\"Revenue by Category:\\n\", category_revenue, \"\\n\")"
      ],
      "metadata": {
        "colab": {
          "base_uri": "https://localhost:8080/"
        },
        "id": "SNEVe2Oo1qLi",
        "outputId": "262facb2-f92a-4dd6-c527-1c911dd8cbee"
      },
      "execution_count": 8,
      "outputs": [
        {
          "output_type": "stream",
          "name": "stdout",
          "text": [
            "Revenue by Category:\n",
            "       category  revenue\n",
            "0  Accessories    56000\n",
            "1  Electronics   325000 \n",
            "\n"
          ]
        }
      ]
    },
    {
      "cell_type": "code",
      "source": [
        "print(\"Best-Selling Category:\\n\", best_category, \"\\n\")"
      ],
      "metadata": {
        "colab": {
          "base_uri": "https://localhost:8080/"
        },
        "id": "MKPzn_ER1_j3",
        "outputId": "89a580e9-874c-47fa-c1da-37deb6c209d2"
      },
      "execution_count": 9,
      "outputs": [
        {
          "output_type": "stream",
          "name": "stdout",
          "text": [
            "Best-Selling Category:\n",
            " category    Electronics\n",
            "revenue          325000\n",
            "Name: 1, dtype: object \n",
            "\n"
          ]
        }
      ]
    },
    {
      "cell_type": "code",
      "source": [
        "print(\"Key Insights:\")\n",
        "print(f\"- Total business revenue is ₹{total_revenue}.\")\n",
        "print(f\"- The average product price is ₹{round(average_price, 2)}.\")\n",
        "print(f\"- The best-selling category is '{best_category['category']}' with revenue ₹{best_category['revenue']}.\")"
      ],
      "metadata": {
        "colab": {
          "base_uri": "https://localhost:8080/"
        },
        "id": "eu8-ZFIc2A2H",
        "outputId": "5be23dfe-aa93-41c6-89f4-5a963339863b"
      },
      "execution_count": 10,
      "outputs": [
        {
          "output_type": "stream",
          "name": "stdout",
          "text": [
            "Key Insights:\n",
            "- Total business revenue is ₹381000.\n",
            "- The average product price is ₹23800.0.\n",
            "- The best-selling category is 'Electronics' with revenue ₹325000.\n"
          ]
        }
      ]
    }
  ]
}